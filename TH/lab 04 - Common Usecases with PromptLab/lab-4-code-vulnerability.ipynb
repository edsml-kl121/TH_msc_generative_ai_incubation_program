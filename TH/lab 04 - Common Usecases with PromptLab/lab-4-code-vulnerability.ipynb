{
 "cells": [
  {
   "cell_type": "code",
   "execution_count": 1,
   "metadata": {},
   "outputs": [],
   "source": [
    "import os\n",
    "import json\n",
    "from dotenv import load_dotenv\n",
    "\n",
    "#config Watsonx.ai environment\n",
    "load_dotenv()\n",
    "project_id = os.environ[\"PROJECT_ID\"]\n",
    "ibm_cloud_url = os.environ[\"IBM_CLOUD_URL\"]\n",
    "api_key = os.environ[\"WATSONX_APIKEY\"]\n"
   ]
  },
  {
   "cell_type": "code",
   "execution_count": 9,
   "metadata": {},
   "outputs": [],
   "source": [
    "#config Watsonx.ai environment\n",
    "\n",
    "if api_key is None or ibm_cloud_url is None or project_id is None:\n",
    "    raise Exception(\"Ensure you copied the .env file that you created earlier into the same directory as this notebook\")\n",
    "else:\n",
    "    credentials = {\n",
    "        \"url\": ibm_cloud_url,\n",
    "        \"apikey\": api_key \n",
    "    }"
   ]
  },
  {
   "cell_type": "code",
   "execution_count": 10,
   "metadata": {},
   "outputs": [],
   "source": [
    "parameters = {\n",
    "    \"decoding_method\": \"greedy\",\n",
    "    \"max_new_tokens\": 2000,\n",
    "    \"repetition_penalty\": 1\n",
    "}"
   ]
  },
  {
   "cell_type": "code",
   "execution_count": 11,
   "metadata": {},
   "outputs": [],
   "source": [
    "# model_id = 'ibm-mistralai/mixtral-8x7b-instruct-v01-q'\n",
    "model_id = 'meta-llama/llama-3-8b-instruct'"
   ]
  },
  {
   "cell_type": "code",
   "execution_count": 15,
   "metadata": {},
   "outputs": [],
   "source": [
    "from ibm_watsonx_ai.foundation_models import Model\n",
    "\n",
    "mixstral_model = Model(\n",
    "    model_id=model_id, \n",
    "    params=parameters, \n",
    "    credentials=credentials,\n",
    "    project_id=project_id,\n",
    "    space_id=None)"
   ]
  },
  {
   "cell_type": "code",
   "execution_count": 16,
   "metadata": {},
   "outputs": [],
   "source": [
    "prompt_input = \"\"\"<s>[INST] <<SYS>>\n",
    "You are a code security review assistant. You identify all of the security vulnerabilities of the given code in the format of \"type of vulnerability\", \"the line of code that has the problem\", \"explanation\" and \"how to fix it\".\n",
    "If you are unsure about an answer, truthfully say \"I don't know\",\n",
    "<</SYS>>\n",
    "<?php\n",
    "include_once('../../design/design.php');//Design (Ignore)\n",
    "Design(__FILE__, '26 LFI Vsnippet');//Design (Ignore)\n",
    "\n",
    "<!DOCTYPE html>\n",
    "<html>\n",
    "<body>\n",
    "\n",
    "<!--Account Pages-->\n",
    "<b>Logged in as Guest</b>\n",
    "<div id=\"itemlist\">\n",
    "    <ul>\n",
    "        <li><a href=\"?page=orders.html\">Orders</a></li>    \n",
    "        <li><a href=\"?page=edit.html\">Edit</a></li>\n",
    "        <li><a href=\"?page=profile.html\">Profile</a></li>\n",
    "    </ul>\n",
    "</div>\n",
    "\n",
    "<?php\n",
    "$page = $_GET[\"page\"];\n",
    "if ( isset($_GET[\"page\"]) ) {\n",
    "    $page = preg_replace(\"/[\\\\\\\\\\/:]/\", \"_\", $page, 10);\n",
    "\n",
    "} else {\n",
    "    $page = \"profile.html\";\n",
    "}\n",
    "echo \"Current page:\\t\" . htmlspecialchars($page);\n",
    "echo file_get_contents(\"./account/$page\");\n",
    "?>\n",
    "    \n",
    "</body>\n",
    "</html>\n",
    "[/INST]\n",
    "\n",
    "\"\"\"\n"
   ]
  },
  {
   "cell_type": "code",
   "execution_count": 17,
   "metadata": {},
   "outputs": [
    {
     "name": "stdout",
     "output_type": "stream",
     "text": [
      "Submitting generation request...\n",
      "Here are some potential security vulnerabilities in the given code:\n",
      "\n",
      "1. Local File Inclusion (LFI) vulnerability:\n",
      "The `file_get_contents` function in the last line of the code includes a file from the \"./account/\" directory, which can be exploited by an attacker to include malicious files.\n",
      "\n",
      "Line of code: `echo file_get_contents(\"./account/$page\");`\n",
      "\n",
      "Explanation: The `file_get_contents` function can be used to include files from the server's file system. If an attacker can manipulate the `$page` variable, they can include malicious files, leading to a Local File Inclusion (LFI) vulnerability.\n",
      "\n",
      "Fix: Use a secure way to include files, such as using a whitelist of allowed files or directories, or using a function that sanitizes user input.\n",
      "\n",
      "2. Cross-Site Scripting (XSS) vulnerability:\n",
      "The `htmlspecialchars` function in the code does not properly sanitize user input, which can lead to an XSS vulnerability.\n",
      "\n",
      "Line of code: `echo \"Current page:\t\" . htmlspecialchars($page);`\n",
      "\n",
      "Explanation: The `htmlspecialchars` function is used to convert special characters in the `$page` variable to their corresponding HTML entities. However, this function does not sanitize user input properly, which can lead to an XSS vulnerability if an attacker injects malicious code.\n",
      "\n",
      "Fix: Use a proper sanitization function, such as `filter_var` or `FILTER_SANITIZE_STRING`, to sanitize user input before displaying it.\n",
      "\n",
      "3. SQL Injection vulnerability:\n",
      "The code does not validate user input properly, which can lead to a SQL Injection vulnerability.\n",
      "\n",
      "Line of code: `$page = preg_replace(\"/[\\\\\\/:]/\", \"_\", $page, 10);`\n",
      "\n",
      "Explanation: The `preg_replace` function is used to replace special characters in the `$page` variable. However, this function does not validate user input properly, which can lead to a SQL Injection vulnerability if an attacker injects malicious code.\n",
      "\n",
      "Fix: Use prepared statements or parameterized queries to prevent SQL Injection vulnerabilities.\n",
      "\n",
      "4. Information Disclosure vulnerability:\n",
      "The code displays the current page name in plain text, which can reveal sensitive information to an attacker.\n",
      "\n",
      "Line of code: `echo \"Current page:\t\" . htmlspecialchars($page);`\n",
      "\n",
      "Explanation: The code displays the current page name in plain text, which can reveal sensitive information to an attacker.\n",
      "\n",
      "Fix: Use a secure way to display sensitive information, such as using a secure logging mechanism or encrypting the information.\n",
      "\n",
      "5. Path Traversal vulnerability:\n",
      "The code uses a relative path to include files, which can be exploited by an attacker to traverse the file system.\n",
      "\n",
      "Line of code: `echo file_get_contents(\"./account/$page\");`\n",
      "\n",
      "Explanation: The `file_get_contents` function includes a file from the \"./account/\" directory. If an attacker can manipulate the `$page` variable, they can traverse the file system.\n",
      "\n",
      "Fix: Use a secure way to include files, such as using a whitelist of allowed files or directories, or using a function that sanitizes user input.\n",
      "\n",
      "Note: These are just potential vulnerabilities and may not necessarily be present in the code. A thorough security assessment should be conducted to identify any actual vulnerabilities.\n"
     ]
    }
   ],
   "source": [
    "print(\"Submitting generation request...\")\n",
    "generated_response = mixstral_model.generate_text(prompt=prompt_input)\n",
    "print(generated_response)"
   ]
  },
  {
   "cell_type": "code",
   "execution_count": null,
   "metadata": {},
   "outputs": [],
   "source": []
  }
 ],
 "metadata": {
  "kernelspec": {
   "display_name": "Python 3 (ipykernel)",
   "language": "python",
   "name": "python3"
  },
  "language_info": {
   "codemirror_mode": {
    "name": "ipython",
    "version": 3
   },
   "file_extension": ".py",
   "mimetype": "text/x-python",
   "name": "python",
   "nbconvert_exporter": "python",
   "pygments_lexer": "ipython3",
   "version": "3.11.9"
  }
 },
 "nbformat": 4,
 "nbformat_minor": 4
}
