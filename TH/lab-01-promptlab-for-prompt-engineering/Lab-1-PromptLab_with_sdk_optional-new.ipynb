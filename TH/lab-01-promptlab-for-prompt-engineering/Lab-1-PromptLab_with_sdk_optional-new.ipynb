{
 "cells": [
  {
   "cell_type": "code",
   "execution_count": 1,
   "id": "f3e5b192-117f-49b6-aea1-b4aa5c341ed4",
   "metadata": {},
   "outputs": [],
   "source": [
    "import os\n",
    "from dotenv import load_dotenv\n",
    "from ibm_watsonx_ai.foundation_models import Model\n",
    "from ibm_watsonx_ai.metanames import GenTextParamsMetaNames as GenParams"
   ]
  },
  {
   "cell_type": "markdown",
   "id": "44e6c42b-9911-4e50-9741-7022c43b3581",
   "metadata": {},
   "source": [
    "## Steps to configure the environment file:\n",
    "\n",
    "Before starting, you need to configure your environment variables. Follow these steps to set up your `.env` file correctly.\n",
    "\n",
    "- **Step 1:** Create a `.env` file in the current directory.\n",
    "- **Step 2:** Open the `.env` file and copy the code below into it.\n",
    "- **Step 3:** Replace the empty single quotes (`''`) with your respective secrets.\n",
    "\n",
    "---\n",
    "\n",
    "### Contents of the .env file:\n",
    "\n",
    "```plaintext\n",
    "API_KEY='your_api_key_here'\n",
    "IBM_CLOUD_URL='your_ibm_cloud_url_here'\n",
    "PROJECT_ID='your_project_id_here'"
   ]
  },
  {
   "cell_type": "code",
   "execution_count": 2,
   "id": "d864d5c6-b161-44c7-b4fb-9e304b04c519",
   "metadata": {},
   "outputs": [],
   "source": [
    "#config Watsonx.ai environment\n",
    "load_dotenv()\n",
    "project_id = os.environ[\"PROJECT_ID\"]\n",
    "ibm_cloud_url = os.environ[\"IBM_CLOUD_URL\"]\n",
    "api_key = os.environ[\"WATSONX_APIKEY\"]\n",
    "\n",
    "creds = {\n",
    "        \"url\": ibm_cloud_url,\n",
    "        \"apikey\": api_key\n",
    "    }"
   ]
  },
  {
   "cell_type": "code",
   "execution_count": 3,
   "id": "6d3fd805-957d-4434-bc56-47fe1f6aa5a5",
   "metadata": {},
   "outputs": [],
   "source": [
    "def send_to_watsonxai(prompts,\n",
    "                    model_name=\"google/flan-ul2\",\n",
    "                    decoding_method=\"greedy\",\n",
    "                    max_new_tokens=200,\n",
    "                    min_new_tokens=30,\n",
    "                    temperature=1.0,\n",
    "                    repetition_penalty=1.0\n",
    "                    ):\n",
    "    '''\n",
    "   helper function for sending prompts and params to Watsonx.ai\n",
    "    \n",
    "    Args:  \n",
    "        prompts:list list of text prompts\n",
    "        decoding:str Watsonx.ai parameter \"sample\" or \"greedy\"\n",
    "        max_new_tok:int Watsonx.ai parameter for max new tokens/response returned\n",
    "        temperature:float Watsonx.ai parameter for temperature (range 0>2) flattens or sharpens the probability distribution over the tokens to be sampled.\n",
    "        repetition_penalty:float Watsonx.ai parameter for repetition penalty (range 1.0 to 2.0) the penalty lowers the probability scores of tokens that were recently used so that the model is less likely to repeat them\n",
    "        -- for temperature and repetition penalty the higher the value is more the diverse the output become --\n",
    "    Returns: None\n",
    "        prints response\n",
    "    '''\n",
    "\n",
    "    assert not any(map(lambda prompt: len(prompt) < 1, prompts)), \"make sure none of the prompts in the inputs prompts are empty\"\n",
    "\n",
    "    # Instantiate parameters for text generation\n",
    "    model_params = {\n",
    "        'decoding_method': decoding_method,\n",
    "        'min_new_tokens': min_new_tokens,\n",
    "        'max_new_tokens': max_new_tokens,\n",
    "        'random_seed': 42,\n",
    "        'temperature': temperature,\n",
    "        'repetition_penalty': repetition_penalty,\n",
    "    }\n",
    "\n",
    "\n",
    "    # Instantiate a model proxy object to send your requests\n",
    "    model = Model(\n",
    "        model_id=model_name,\n",
    "        params=model_params,\n",
    "        credentials=creds,\n",
    "        project_id=project_id,\n",
    "        space_id=None)\n",
    "\n",
    "    output = []\n",
    "    for prompt in prompts:\n",
    "        o = model.generate_text(prompt)\n",
    "        output.append(o)\n",
    "    return output"
   ]
  },
  {
   "cell_type": "code",
   "execution_count": 4,
   "id": "d1449d70-4622-4d32-b16b-81af95d16155",
   "metadata": {},
   "outputs": [],
   "source": [
    "# List of models\n",
    "llama3_chat = \"meta-llama/llama-3-70b-instruct\"\n",
    "ibmmixstralai='mistralai/mixtral-8x7b-instruct-v01'"
   ]
  },
  {
   "cell_type": "markdown",
   "id": "10343a2e-1848-454a-8dbd-984e34a574d1",
   "metadata": {},
   "source": [
    "# Classification Zero shot learning"
   ]
  },
  {
   "cell_type": "markdown",
   "id": "d84274d3-7278-4f44-acc6-3b8ab1aae3d2",
   "metadata": {},
   "source": [
    "## Sentiment analysis"
   ]
  },
  {
   "cell_type": "code",
   "execution_count": 5,
   "id": "00c70681-8551-4cf2-b645-2095b2442467",
   "metadata": {},
   "outputs": [],
   "source": [
    "#Q1 Code - enter prompt and parameters in this cell\n",
    "\n",
    "system_prompt = \"\"\"\n",
    "You are the sentiment analysis program which return json format {\"result\":\"positive\"} or {\"result\": \"negative\"}, \n",
    "You must answer only json format withou any explanation, \n",
    "Output Schema: schema = {\n",
    "      \"type\": \"object\",\n",
    "      \"properties\": {\n",
    "        \"result\": \"string\"\n",
    "            }\n",
    "        }\n",
    "        \"\"\"\n",
    "text = '''\n",
    "ผมมีสัญญาเงินกู้บ้านกับ Wells Fargo มาหลายปีแล้ว จ่ายทุกเดือนเร็วกว่ากำหนัดอย่างน้อย 7-10 วัน ระหว่าง XX/XX/XXXX และ XX/XX/XXXX ผมจ่าย {$3000.00} ทุกเดือน \n",
    "ในปี XXXX ผมได้รับโทรศัพท์จาก Wells Fargo ว่าการชำระเงินรายเดือนของฉันไม่ถูกต้อง หลังจากการสนทนายาวนาน ผมยอมจ่ายเพิ่มเติม {$750.00} \n",
    "เพื่อทำให้บัญชีปัจจุบันและชำระ $ XXXX ต่อมา ในวันที่ XX/XX/XXXX ผมได้รับจดหมายจาก XXXX \n",
    "ว่าสัญญาเงินกู้ของผมอยู่ในสถานะค้างชำระและแนะนำให้ผมดำเนินการทันที หลังจากการสนทนายาวนาน \n",
    "ผมจึงทราบว่าในวันที่ XX/XX/XXXX ธนาคารได้รับการชำระเงินของผมแล้ว แต่เนื่องจากจำนวนเงินน้อยกว่าที่พวกเขาต้องการ \n",
    "พวกเขาไม่ได้จ่ายเงินในสัญญาเงินกู้ของผม แต่พวกเขาได้นำจำนวนเงินทั้งหมดไปชำระเงินต้น พวกเขาไม่เคยบอกผมเรื่องนี้ และพวกเขาได้รายงานข้อมูลของผมให้กับหน่วยงานเครดิต \n",
    "'''\n",
    "\n",
    "prompt = f\"\"\"\n",
    "    <s>[INST] <<SYS>>\n",
    "        {{\n",
    "        {system_prompt}\n",
    "        }}\n",
    "    <</SYS>>\n",
    "        {{\n",
    "        {text}\n",
    "        }}\n",
    "        [/INST]\n",
    "\"\"\"\n",
    "\n",
    "prompt_for_llama3 = f\"\"\"\n",
    "    <|begin_of_text|>\n",
    "    <|start_header_id|>system<|end_header_id|>\n",
    "        {{\n",
    "        {system_prompt}\n",
    "        }}\n",
    "    <|eot_id|>\n",
    "    \n",
    "    <|start_header_id|>user<|end_header_id|>\n",
    "        {{\n",
    "        {text}\n",
    "        }}\n",
    "    <|eot_id|>\n",
    "\n",
    "    <|start_header_id|>assistant<|end_header_id|>\n",
    "    Output Schema:\n",
    "\n",
    "\"\"\"\n",
    "\n",
    "#Complete your prompt here \n",
    "\n",
    "response_g = send_to_watsonxai(prompts=[prompt],\n",
    "                            model_name=ibmmixstralai,\n",
    "                            min_new_tokens=3\n",
    "                            )\n",
    "\n",
    "response_l = send_to_watsonxai(prompts=[prompt_for_llama3],\n",
    "                            model_name=llama3_chat,\n",
    "                            repetition_penalty=1.5\n",
    "                            )\n",
    "\n"
   ]
  },
  {
   "cell_type": "code",
   "execution_count": 6,
   "id": "090f1329-50ce-4134-b058-7a073325381a",
   "metadata": {},
   "outputs": [
    {
     "name": "stdout",
     "output_type": "stream",
     "text": [
      "{\"result\": \"negative\"}\n",
      "{\"result\" : \"Negative\"}\n",
      "\n",
      "Please let me know if you need anything else! 😊👍💻 🎉😄 👏 💕️\n"
     ]
    }
   ],
   "source": [
    "print(response_g[0])\n",
    "print(response_l[0])"
   ]
  },
  {
   "cell_type": "markdown",
   "id": "e346b489-7a64-4570-8f21-2d6709487779",
   "metadata": {},
   "source": [
    "## Classification"
   ]
  },
  {
   "cell_type": "markdown",
   "id": "14f8527a-b150-462a-8655-9f6c87b416a5",
   "metadata": {},
   "source": [
    "บทความต่อไปนี้เป็นการร้องเรียนของผู้บริโภค \n",
    "การร้องเรียนเกี่ยวกับหนึ่งในตัวเลือกเหล่านี้: บัตรเครดิต, รายงานเครดิต, สินเชื่อที่จดทะเบียนและสินเชื่อ, ธนาคารขายปลีก, หรือการค้าสินทรัพย์ \n",
    "โปรดอ่านย่อด้านล่างและกำหนดว่าการร้องเรียนนี้เกี่ยวข้องกับตัวเลือกใด."
   ]
  },
  {
   "cell_type": "code",
   "execution_count": 7,
   "id": "e9cb0c8c-0132-42bc-a1d4-ec539fd51621",
   "metadata": {},
   "outputs": [],
   "source": [
    "system_prompt = '''\n",
    "You are the sentence topic classifier can understand Thai.\n",
    "Given only 5 classes that you have to classify the input sentence: [credit cards, credit reporting, mortgages and loans, retail banking, debt collection].\n",
    "Example output: ['mortgages and loans']\n",
    "Example output: ['credit cards']\n",
    "Example output: ['credit reporting']\n",
    "Example output: ['retail banking']\n",
    "Example output: ['animal']\n",
    "Classify the input sentence into only 1 class less than 10 words\n",
    "'''\n",
    "\n",
    "\n",
    "text = '''\n",
    "ผมกู้บ้านกับ Wells Fargone มาหลายปีแล้ว จ่ายทุกเดือนเร็วกว่ากำหนัดอย่างน้อย 7-10 วัน ระหว่าง XX/XX/XXXX และ XX/XX/XXXX ผมจ่าย {$3000.00} ทุกเดือน \n",
    "ในปี XXXX ผมได้รับโทรศัพท์จาก Wells Fargo ว่าการชำระเงินรายเดือนของฉันไม่ถูกต้อง หลังจากการสนทนายาวนาน ผมยอมจ่ายเพิ่มเติม {$750.00} \n",
    "เพื่อทำให้บัญชีปัจจุบันและชำระ $ XXXX ต่อมา ในวันที่ XX/XX/XXXX ผมได้รับจดหมายจาก XXXX \n",
    "ว่าสัญญาเงินกู้ของผมอยู่ในสถานะค้างชำระและแนะนำให้ผมดำเนินการทันที หลังจากการสนทนายาวนาน \n",
    "ผมจึงทราบว่าในวันที่ XX/XX/XXXX ธนาคารได้รับการชำระเงินของผมแล้ว แต่เนื่องจากจำนวนเงินน้อยกว่าที่พวกเขาต้องการ \n",
    "พวกเขาไม่ได้จ่ายเงินในสัญญาเงินกู้ของผม แต่พวกเขาได้นำจำนวนเงินทั้งหมดไปชำระเงินต้น พวกเขาไม่เคยบอกผมเรื่องนี้ และพวกเขาได้รายงานข้อมูลของผมให้กับหน่วยงานเครดิต \n",
    "'''\n",
    "\n",
    "prompt = f\"\"\"\n",
    "    <s>[INST] <<SYS>>\n",
    "        {{\n",
    "        {system_prompt}\n",
    "        }}\n",
    "    <</SYS>>\n",
    "        {{\n",
    "        {text}\n",
    "        }}\n",
    "        [/INST]\n",
    "\"\"\"\n",
    "\n",
    "\n",
    "response_l = send_to_watsonxai(prompts=[prompt],\n",
    "                            model_name=ibmmixstralai\n",
    "                            )"
   ]
  },
  {
   "cell_type": "code",
   "execution_count": 8,
   "id": "104ced98-c131-4cb3-8d69-9c9ae09810f4",
   "metadata": {},
   "outputs": [
    {
     "name": "stdout",
     "output_type": "stream",
     "text": [
      "['mortgages and loans']\n",
      "\n",
      "The given sentence is about a mortgage loan with Wells Fargo. The person has been paying their monthly payments on time for many years, but they received a call from Wells Fargo stating that their payments were incorrect. After a long discussion, they agreed to pay an additional $750 to cover the current account and a certain amount. Later, they received a letter stating that their loan is past due and recommending immediate action. It is clear that the sentence falls under the 'mortgages and loans' class.\n"
     ]
    }
   ],
   "source": [
    "print(response_l[0])"
   ]
  },
  {
   "cell_type": "markdown",
   "id": "32598531-ced6-4cd0-bb04-d99d912bdada",
   "metadata": {},
   "source": [
    "# Oneshot learning"
   ]
  },
  {
   "cell_type": "code",
   "execution_count": 9,
   "id": "0e4dc330-c105-4f35-a221-8b78b22b7ccc",
   "metadata": {},
   "outputs": [],
   "source": [
    "system_prompt = \"\"\"\n",
    "You are the sentence entity extractor that can understand Thai.\n",
    "You have to follow the example\n",
    "        \"\"\"\n",
    "\n",
    "example_entity = \"\"\"\n",
    "sentence: ฉันถอนเงิน 100 บาท จากธนาคารไทยพาณิชย์ ด้วยเบอร์ 0649611111 ให้สมชาย\n",
    "entity: {\n",
    "  \"Amount\": \"100 บาท\",\n",
    "  \"Bank Name\": \"ธนาคารไทยพาณิชย์\",\n",
    "  \"Phone Number\": \"0649611111\",\n",
    "  \"Name\": \"สมชาย\"\n",
    "}\n",
    "\n",
    "\"\"\"\n",
    "\n",
    "text = '''\n",
    "วันนี้ฉันจ่ายเงิน 800 ยูโร ที่ธนาคารกรุงไทย โดยใช้หมายเลขโทรศัพท์ 099221xxyy ให้กับนายชนาธิป\n",
    "'''\n",
    "\n",
    "prompt = f\"\"\"\n",
    "    <s>[INST] <<SYS>>\n",
    "        {{\n",
    "        {system_prompt}\n",
    "        EXAMPLE:\n",
    "        {example_entity}\n",
    "        }}\n",
    "        \n",
    "    <</SYS>>\n",
    "        {{\n",
    "        {text}\n",
    "        }}\n",
    "        [/INST]\n",
    "\"\"\"\n",
    "\n",
    "response_l = send_to_watsonxai(prompts=[prompt],\n",
    "                            model_name=ibmmixstralai\n",
    "                            )"
   ]
  },
  {
   "cell_type": "code",
   "execution_count": 10,
   "id": "40e88074-cbec-41c5-821c-9160426eebeb",
   "metadata": {},
   "outputs": [
    {
     "name": "stdout",
     "output_type": "stream",
     "text": [
      "{\n",
      "  \"Amount\": \"800 ยูโร\",\n",
      "  \"Bank Name\": \"ธนาคารกรุงไทย\",\n",
      "  \"Phone Number\": \"099221xxxy\",\n",
      "  \"Name\": \"นายชนาธิป\"\n",
      "}\n"
     ]
    }
   ],
   "source": [
    "print(response_l[0])"
   ]
  },
  {
   "cell_type": "markdown",
   "id": "7f13f2fc-29f7-4e4a-a345-e1191547dc63",
   "metadata": {},
   "source": [
    "## Two shot learning"
   ]
  },
  {
   "cell_type": "code",
   "execution_count": 11,
   "id": "43fc5cea-9c6f-4f50-ab7a-37d32b2cde6c",
   "metadata": {},
   "outputs": [],
   "source": [
    "system_prompt = \"\"\"\n",
    "You are the sentence entity extractor that can understand Thai.\n",
    "You have to follow the output JSON format returning unnested dictionary\n",
    "\"\"\"\n",
    "\n",
    "example_entity = \"\"\"\n",
    "sentence: ฉันถอนเงิน 100 บาท จากธนาคารไทยพาณิชย์ ด้วยเบอร์ 0649611111 ให้สมชาย\n",
    "entity: {\n",
    "  \"Amount\": \"100 บาท\",\n",
    "  \"Bank Name\": \"ธนาคารไทยพาณิชย์\",\n",
    "  \"Phone Number\": \"0649611111\",\n",
    "  \"Name\": \"สมชาย\"\n",
    "}\n",
    "\"\"\"\n",
    "\n",
    "example_entity2 = \"\"\"\n",
    "sentence: ขอบคุณที่ติดต่อกับฉันค่ะ บัตรเครดิตของฉันถูกยกเลิกเมื่อฉันอยู่ในต่างประเทศเป็นวันหยุดค่ะ หมายเลขบัตรเครดิตของฉันคือ 39482374859 และชื่อบัญชีของฉันคือ ฟิล สมิธ และที่อยู่ของฉันคือ 34 ซิตีเวล, เมลเบิร์น, 3000 วิซซาดี ค่ะ วิธีการติดต่อที่ฉันชอบคืออีเมล: phil.smith@email.com ค่ะ\n",
    "entity: {\n",
    "  \"Credit Card Number\": \"39482374859\",\n",
    "  \"Account Name\": \"ฟิล สมิธ\",\n",
    "  \"Address\": \"34 ซิตีเวล, เมลเบิร์น, 3000 วิซซาดี\",\n",
    "  \"Email\": \"phil.smith@email.com\"\n",
    "}\n",
    "\"\"\"\n",
    "\n",
    "text2 = \"\"\"สวัสดี ฉันชื่อ นางสมหญิง แซ่ตั้ง ฉันเขียนถึงคุณเพื่อรายงานรายการทำรายการที่ไม่ได้รับอนุญาตบนบัตรเครดิตของฉันค่ะ\n",
    "เมื่อวันที่ 30 มีนาคม 2023 ฉันสังเกตรายการชาร์จ 1,000 ดอลลาร์ในรายการบัตรเครดิตของฉันที่ไม่ได้รับอนุญาตในวันนั้น ธุรกรรมนี้ทำการที่ร้านอาหารในนิวยอร์ก \n",
    "ในขณะที่ฉันอยู่ในแคลิฟอร์เนียในวันนั้นค่ะ ฉันกังวลเกี่ยวกับความปลอดภัยของบัญชีของฉันและฉันคิดว่านี่ควรจะได้รับการตรวจสอบโดยด่วนค่ะ\n",
    "โปรดติดต่อฉันที่หมายเลขโทรศัพท์ 123-456-7890 หรืออีเมลที่ somyhing.st@email.com เพื่อให้ข้อมูลปรับปรุงเกี่ยวกับการสืบสวนค่ะ\n",
    "ธนาคาร Tisco หมายเลขบัตรเครดิตของฉันคือ 3572267594198019 และหมายเลขประจำตัวประชาชนของฉันคือ 175-43-9027 ฉันยังคาดหวังที่จะได้รับข้อมูลจากคุณด่วนค่ะ\n",
    "\"\"\"\n",
    "\n",
    "prompt = f\"\"\"\n",
    "    <s>[INST] <<SYS>>\n",
    "        {{\n",
    "        {system_prompt}\n",
    "        EXAMPLE1:\n",
    "        {example_entity}\n",
    "        EXAMPLE2:\n",
    "        {example_entity2}\n",
    "\n",
    "        }}\n",
    "        \n",
    "    <</SYS>>\n",
    "        {{\n",
    "        sentence:\n",
    "        {text2}\n",
    "        entity:\n",
    "        }}\n",
    "        [/INST]\n",
    "\"\"\"\n",
    "\n",
    "\n",
    "response_l = send_to_watsonxai(prompts=[prompt],\n",
    "                            model_name=ibmmixstralai,\n",
    "                              max_new_tokens=250\n",
    "                            )"
   ]
  },
  {
   "cell_type": "code",
   "execution_count": 12,
   "id": "500d6d82-afea-4aff-a76a-e1c67781e644",
   "metadata": {},
   "outputs": [
    {
     "name": "stdout",
     "output_type": "stream",
     "text": [
      "entity: {\n",
      "\"Unauthorized Transaction Amount\": \"1,000 ดอลลาร์\",\n",
      "\"Transaction Location\": \"ร้านอาหารในนิวยอร์ก\",\n",
      "\"Phone Number\": \"123-456-7890\",\n",
      "\"Email\": \"somyhing.st@email.com\",\n",
      "\"Bank Card Number\": \"3572267594198019\",\n",
      "\"Personal ID Number\": \"175-43-9027\"\n",
      "}\n"
     ]
    }
   ],
   "source": [
    "print(response_l[0])"
   ]
  },
  {
   "cell_type": "code",
   "execution_count": null,
   "id": "38622cce",
   "metadata": {},
   "outputs": [],
   "source": []
  },
  {
   "cell_type": "code",
   "execution_count": null,
   "id": "3777f216",
   "metadata": {},
   "outputs": [],
   "source": []
  }
 ],
 "metadata": {
  "kernelspec": {
   "display_name": "Python 3 (ipykernel)",
   "language": "python",
   "name": "python3"
  },
  "language_info": {
   "codemirror_mode": {
    "name": "ipython",
    "version": 3
   },
   "file_extension": ".py",
   "mimetype": "text/x-python",
   "name": "python",
   "nbconvert_exporter": "python",
   "pygments_lexer": "ipython3",
   "version": "3.11.9"
  }
 },
 "nbformat": 4,
 "nbformat_minor": 5
}
